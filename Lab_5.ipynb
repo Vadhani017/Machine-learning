{
  "cells": [
    {
      "cell_type": "markdown",
      "source": [
        "#FOOD DELIVERY TIME PREDICTION USING ENSEMBLE LEARNING"
      ],
      "metadata": {
        "id": "X1s-k_rO09Rb"
      }
    },
    {
      "cell_type": "markdown",
      "metadata": {
        "id": "b0xB0tuEcL__"
      },
      "source": [
        "##Basic things to be known about this model.\n",
        "1. Here in our dataset column, we can see that the food delivery time will have commonly seven approximate timings and we are converting them into as seven categories. \n",
        "2. They are 10, 20, 45, 30, 65, 80 and 120 in minutes. \n",
        "  "
      ]
    },
    {
      "cell_type": "markdown",
      "source": [
        "##Purpose of this Model\n",
        "\n",
        "1. Initially, we are using classifier models like Decision Tree, SVC and  Random forest  and predicting its accurancy. \n",
        "2. Then we are using ensembling techniques like Bagging, AdaBoost, to improve the model's accurance. \n",
        "3. Also we are combining all the model and using voting Classifier (hard voting) and getting the best classifier."
      ],
      "metadata": {
        "id": "yYN_XtAh011Q"
      }
    },
    {
      "cell_type": "markdown",
      "source": [
        "##Importing"
      ],
      "metadata": {
        "id": "_RWqiN8SzXO6"
      }
    },
    {
      "cell_type": "markdown",
      "metadata": {
        "id": "Gpg6G5zJdeVZ"
      },
      "source": [
        "###Importing the necessary libraries"
      ]
    },
    {
      "cell_type": "code",
      "execution_count": null,
      "metadata": {
        "id": "Tz1PMPDX8kOz"
      },
      "outputs": [],
      "source": [
        "import numpy as np\n",
        "from sklearn.metrics import accuracy_score, precision_score, recall_score, f1_score\n",
        "from sklearn.preprocessing import LabelEncoder\n",
        "from scipy.stats import zscore\n",
        "from time import time\n",
        "from sklearn.svm import SVC\n",
        "from sklearn.tree import DecisionTreeClassifier\n",
        "from sklearn.neighbors import KNeighborsClassifier\n",
        "from sklearn.ensemble import AdaBoostClassifier, BaggingClassifier, RandomForestClassifier, VotingClassifier\n",
        "import pandas as pd\n",
        "from sklearn.metrics import confusion_matrix, accuracy_score, precision_score, recall_score, f1_score, roc_curve, auc\n",
        "from sklearn.model_selection import train_test_split,GridSearchCV"
      ]
    },
    {
      "cell_type": "markdown",
      "metadata": {
        "id": "FRk5lhVzfWhF"
      },
      "source": [
        "###Importing the required Dataset"
      ]
    },
    {
      "cell_type": "code",
      "execution_count": null,
      "metadata": {
        "id": "Nv5JEva_-LvW"
      },
      "outputs": [],
      "source": [
        "dataset = pd.read_excel(\"/content/Data_Train.xlsx\")"
      ]
    },
    {
      "cell_type": "markdown",
      "metadata": {
        "id": "SqoOfIRHfajj"
      },
      "source": [
        "##Data Cleaning and Transformation"
      ]
    },
    {
      "cell_type": "code",
      "execution_count": null,
      "metadata": {
        "colab": {
          "base_uri": "https://localhost:8080/"
        },
        "id": "OL9KcW4rU6_i",
        "outputId": "4f1e152c-a8d6-4c70-b91d-d8441d320a2e"
      },
      "outputs": [
        {
          "output_type": "stream",
          "name": "stdout",
          "text": [
            "<class 'pandas.core.frame.DataFrame'>\n",
            "RangeIndex: 11094 entries, 0 to 11093\n",
            "Data columns (total 9 columns):\n",
            " #   Column         Non-Null Count  Dtype \n",
            "---  ------         --------------  ----- \n",
            " 0   Restaurant     11094 non-null  object\n",
            " 1   Location       11094 non-null  object\n",
            " 2   Cuisines       11094 non-null  object\n",
            " 3   Average_Cost   11094 non-null  object\n",
            " 4   Minimum_Order  11094 non-null  object\n",
            " 5   Rating         11094 non-null  object\n",
            " 6   Votes          11094 non-null  object\n",
            " 7   Reviews        11094 non-null  object\n",
            " 8   Delivery_Time  11094 non-null  object\n",
            "dtypes: object(9)\n",
            "memory usage: 780.2+ KB\n"
          ]
        }
      ],
      "source": [
        "dataset.info()"
      ]
    },
    {
      "cell_type": "markdown",
      "source": [
        "###Label encoding and numeric transformation"
      ],
      "metadata": {
        "id": "jPMrZFJUzNHX"
      }
    },
    {
      "cell_type": "code",
      "execution_count": null,
      "metadata": {
        "id": "x0mTkNMFflh-"
      },
      "outputs": [],
      "source": [
        "le = LabelEncoder()"
      ]
    },
    {
      "cell_type": "code",
      "execution_count": null,
      "metadata": {
        "id": "6kZdXn11086Z"
      },
      "outputs": [],
      "source": [
        "dataset['Restaurant']=le.fit_transform(dataset['Restaurant'])\n",
        "dataset['Location']=le.fit_transform(dataset['Location'])"
      ]
    },
    {
      "cell_type": "code",
      "execution_count": null,
      "metadata": {
        "id": "h8vChuWa1AY-"
      },
      "outputs": [],
      "source": [
        "dataset['Minimum_Order']=pd.to_numeric(dataset['Minimum_Order'].str.replace('₹',' '))"
      ]
    },
    {
      "cell_type": "code",
      "execution_count": null,
      "metadata": {
        "id": "JRui0Tjg1QRH"
      },
      "outputs": [],
      "source": [
        "dataset['Rating']=pd.to_numeric(dataset['Rating'].apply(lambda x : np.nan if x in ['Temporarily Closed','Opening Soon','-','NEW'] else x))"
      ]
    },
    {
      "cell_type": "code",
      "execution_count": null,
      "metadata": {
        "id": "IqskpEOyMbJa"
      },
      "outputs": [],
      "source": [
        "dataset['Votes']=pd.to_numeric(dataset['Votes'].apply(lambda x : np.nan if x=='-' else x))\n",
        "dataset['Reviews']=pd.to_numeric(dataset['Reviews'].apply(lambda x : np.nan if x=='-' else x))"
      ]
    },
    {
      "cell_type": "code",
      "execution_count": null,
      "metadata": {
        "id": "_OTHXQW6Uzcb"
      },
      "outputs": [],
      "source": [
        "dataset['Cuisines']=le.fit_transform(dataset['Cuisines'])"
      ]
    },
    {
      "cell_type": "code",
      "execution_count": null,
      "metadata": {
        "colab": {
          "base_uri": "https://localhost:8080/"
        },
        "id": "3Skix07y1DNm",
        "outputId": "de9bcb36-3c31-437f-9383-62a95f4ec4c2"
      },
      "outputs": [
        {
          "output_type": "stream",
          "name": "stderr",
          "text": [
            "<ipython-input-214-c22157780a90>:1: FutureWarning: The default value of regex will change from True to False in a future version.\n",
            "  dataset['Average_Cost']=pd.to_numeric(dataset['Average_Cost'].str.replace('[^0-9]',''))\n",
            "<ipython-input-214-c22157780a90>:2: FutureWarning: The default value of regex will change from True to False in a future version.\n",
            "  dataset['Delivery_Time']=pd.to_numeric(dataset['Delivery_Time'].str.replace('[^0-9]',''))\n"
          ]
        }
      ],
      "source": [
        "dataset['Average_Cost']=pd.to_numeric(dataset['Average_Cost'].str.replace('[^0-9]',''))\n",
        "dataset['Delivery_Time']=pd.to_numeric(dataset['Delivery_Time'].str.replace('[^0-9]',''))"
      ]
    },
    {
      "cell_type": "code",
      "execution_count": null,
      "metadata": {
        "colab": {
          "base_uri": "https://localhost:8080/"
        },
        "id": "4ywE3sy-U_o_",
        "outputId": "202a803b-e02c-4b74-a10c-9f68d7bf8387"
      },
      "outputs": [
        {
          "output_type": "stream",
          "name": "stdout",
          "text": [
            "<class 'pandas.core.frame.DataFrame'>\n",
            "RangeIndex: 11094 entries, 0 to 11093\n",
            "Data columns (total 9 columns):\n",
            " #   Column         Non-Null Count  Dtype  \n",
            "---  ------         --------------  -----  \n",
            " 0   Restaurant     11094 non-null  int64  \n",
            " 1   Location       11094 non-null  int64  \n",
            " 2   Cuisines       11094 non-null  object \n",
            " 3   Average_Cost   11093 non-null  float64\n",
            " 4   Minimum_Order  11094 non-null  int64  \n",
            " 5   Rating         9131 non-null   float64\n",
            " 6   Votes          9020 non-null   float64\n",
            " 7   Reviews        8782 non-null   float64\n",
            " 8   Delivery_Time  11094 non-null  int64  \n",
            "dtypes: float64(4), int64(4), object(1)\n",
            "memory usage: 780.2+ KB\n"
          ]
        }
      ],
      "source": [
        "dataset.info()"
      ]
    },
    {
      "cell_type": "code",
      "execution_count": null,
      "metadata": {
        "colab": {
          "base_uri": "https://localhost:8080/",
          "height": 363
        },
        "id": "mUBueUzA262W",
        "outputId": "04fb7391-f12d-4e75-f8c1-8eda436037b6"
      },
      "outputs": [
        {
          "output_type": "execute_result",
          "data": {
            "text/plain": [
              "   Restaurant  Location                                           Cuisines  \\\n",
              "0        5086        10             Fast Food, Rolls, Burger, Salad, Wraps   \n",
              "1        1785        30                                Ice Cream, Desserts   \n",
              "2         571        19                    Italian, Street Food, Fast Food   \n",
              "3        4708        28                     Mughlai, North Indian, Chinese   \n",
              "4        4896        26                                    Cafe, Beverages   \n",
              "5        4030        26                South Indian, North Indian, Chinese   \n",
              "6        2649        19                               Beverages, Fast Food   \n",
              "7        6168         8                               Chinese, Thai, Asian   \n",
              "8        1871         8                                Mithai, Street Food   \n",
              "9        2353        28  Fast Food, North Indian, Rolls, Chinese, Momos...   \n",
              "\n",
              "   Average_Cost  Minimum_Order  Rating   Votes  Reviews  Delivery_Time  \n",
              "0         200.0             50     3.5    12.0      4.0             30  \n",
              "1         100.0             50     3.5    11.0      4.0             30  \n",
              "2         150.0             50     3.6    99.0     30.0             65  \n",
              "3         250.0             99     3.7   176.0     95.0             30  \n",
              "4         200.0             99     3.2   521.0    235.0             65  \n",
              "5         150.0             50     3.8    46.0     18.0             30  \n",
              "6         150.0             50     3.7   108.0     31.0             30  \n",
              "7         650.0             50     4.0  1731.0   1235.0             45  \n",
              "8         100.0             50     3.9   110.0     26.0             30  \n",
              "9         200.0             50     3.9   562.0    294.0             65  "
            ],
            "text/html": [
              "\n",
              "  <div id=\"df-b3b61582-252d-491f-ae29-bbf07209121a\">\n",
              "    <div class=\"colab-df-container\">\n",
              "      <div>\n",
              "<style scoped>\n",
              "    .dataframe tbody tr th:only-of-type {\n",
              "        vertical-align: middle;\n",
              "    }\n",
              "\n",
              "    .dataframe tbody tr th {\n",
              "        vertical-align: top;\n",
              "    }\n",
              "\n",
              "    .dataframe thead th {\n",
              "        text-align: right;\n",
              "    }\n",
              "</style>\n",
              "<table border=\"1\" class=\"dataframe\">\n",
              "  <thead>\n",
              "    <tr style=\"text-align: right;\">\n",
              "      <th></th>\n",
              "      <th>Restaurant</th>\n",
              "      <th>Location</th>\n",
              "      <th>Cuisines</th>\n",
              "      <th>Average_Cost</th>\n",
              "      <th>Minimum_Order</th>\n",
              "      <th>Rating</th>\n",
              "      <th>Votes</th>\n",
              "      <th>Reviews</th>\n",
              "      <th>Delivery_Time</th>\n",
              "    </tr>\n",
              "  </thead>\n",
              "  <tbody>\n",
              "    <tr>\n",
              "      <th>0</th>\n",
              "      <td>5086</td>\n",
              "      <td>10</td>\n",
              "      <td>Fast Food, Rolls, Burger, Salad, Wraps</td>\n",
              "      <td>200.0</td>\n",
              "      <td>50</td>\n",
              "      <td>3.5</td>\n",
              "      <td>12.0</td>\n",
              "      <td>4.0</td>\n",
              "      <td>30</td>\n",
              "    </tr>\n",
              "    <tr>\n",
              "      <th>1</th>\n",
              "      <td>1785</td>\n",
              "      <td>30</td>\n",
              "      <td>Ice Cream, Desserts</td>\n",
              "      <td>100.0</td>\n",
              "      <td>50</td>\n",
              "      <td>3.5</td>\n",
              "      <td>11.0</td>\n",
              "      <td>4.0</td>\n",
              "      <td>30</td>\n",
              "    </tr>\n",
              "    <tr>\n",
              "      <th>2</th>\n",
              "      <td>571</td>\n",
              "      <td>19</td>\n",
              "      <td>Italian, Street Food, Fast Food</td>\n",
              "      <td>150.0</td>\n",
              "      <td>50</td>\n",
              "      <td>3.6</td>\n",
              "      <td>99.0</td>\n",
              "      <td>30.0</td>\n",
              "      <td>65</td>\n",
              "    </tr>\n",
              "    <tr>\n",
              "      <th>3</th>\n",
              "      <td>4708</td>\n",
              "      <td>28</td>\n",
              "      <td>Mughlai, North Indian, Chinese</td>\n",
              "      <td>250.0</td>\n",
              "      <td>99</td>\n",
              "      <td>3.7</td>\n",
              "      <td>176.0</td>\n",
              "      <td>95.0</td>\n",
              "      <td>30</td>\n",
              "    </tr>\n",
              "    <tr>\n",
              "      <th>4</th>\n",
              "      <td>4896</td>\n",
              "      <td>26</td>\n",
              "      <td>Cafe, Beverages</td>\n",
              "      <td>200.0</td>\n",
              "      <td>99</td>\n",
              "      <td>3.2</td>\n",
              "      <td>521.0</td>\n",
              "      <td>235.0</td>\n",
              "      <td>65</td>\n",
              "    </tr>\n",
              "    <tr>\n",
              "      <th>5</th>\n",
              "      <td>4030</td>\n",
              "      <td>26</td>\n",
              "      <td>South Indian, North Indian, Chinese</td>\n",
              "      <td>150.0</td>\n",
              "      <td>50</td>\n",
              "      <td>3.8</td>\n",
              "      <td>46.0</td>\n",
              "      <td>18.0</td>\n",
              "      <td>30</td>\n",
              "    </tr>\n",
              "    <tr>\n",
              "      <th>6</th>\n",
              "      <td>2649</td>\n",
              "      <td>19</td>\n",
              "      <td>Beverages, Fast Food</td>\n",
              "      <td>150.0</td>\n",
              "      <td>50</td>\n",
              "      <td>3.7</td>\n",
              "      <td>108.0</td>\n",
              "      <td>31.0</td>\n",
              "      <td>30</td>\n",
              "    </tr>\n",
              "    <tr>\n",
              "      <th>7</th>\n",
              "      <td>6168</td>\n",
              "      <td>8</td>\n",
              "      <td>Chinese, Thai, Asian</td>\n",
              "      <td>650.0</td>\n",
              "      <td>50</td>\n",
              "      <td>4.0</td>\n",
              "      <td>1731.0</td>\n",
              "      <td>1235.0</td>\n",
              "      <td>45</td>\n",
              "    </tr>\n",
              "    <tr>\n",
              "      <th>8</th>\n",
              "      <td>1871</td>\n",
              "      <td>8</td>\n",
              "      <td>Mithai, Street Food</td>\n",
              "      <td>100.0</td>\n",
              "      <td>50</td>\n",
              "      <td>3.9</td>\n",
              "      <td>110.0</td>\n",
              "      <td>26.0</td>\n",
              "      <td>30</td>\n",
              "    </tr>\n",
              "    <tr>\n",
              "      <th>9</th>\n",
              "      <td>2353</td>\n",
              "      <td>28</td>\n",
              "      <td>Fast Food, North Indian, Rolls, Chinese, Momos...</td>\n",
              "      <td>200.0</td>\n",
              "      <td>50</td>\n",
              "      <td>3.9</td>\n",
              "      <td>562.0</td>\n",
              "      <td>294.0</td>\n",
              "      <td>65</td>\n",
              "    </tr>\n",
              "  </tbody>\n",
              "</table>\n",
              "</div>\n",
              "      <button class=\"colab-df-convert\" onclick=\"convertToInteractive('df-b3b61582-252d-491f-ae29-bbf07209121a')\"\n",
              "              title=\"Convert this dataframe to an interactive table.\"\n",
              "              style=\"display:none;\">\n",
              "        \n",
              "  <svg xmlns=\"http://www.w3.org/2000/svg\" height=\"24px\"viewBox=\"0 0 24 24\"\n",
              "       width=\"24px\">\n",
              "    <path d=\"M0 0h24v24H0V0z\" fill=\"none\"/>\n",
              "    <path d=\"M18.56 5.44l.94 2.06.94-2.06 2.06-.94-2.06-.94-.94-2.06-.94 2.06-2.06.94zm-11 1L8.5 8.5l.94-2.06 2.06-.94-2.06-.94L8.5 2.5l-.94 2.06-2.06.94zm10 10l.94 2.06.94-2.06 2.06-.94-2.06-.94-.94-2.06-.94 2.06-2.06.94z\"/><path d=\"M17.41 7.96l-1.37-1.37c-.4-.4-.92-.59-1.43-.59-.52 0-1.04.2-1.43.59L10.3 9.45l-7.72 7.72c-.78.78-.78 2.05 0 2.83L4 21.41c.39.39.9.59 1.41.59.51 0 1.02-.2 1.41-.59l7.78-7.78 2.81-2.81c.8-.78.8-2.07 0-2.86zM5.41 20L4 18.59l7.72-7.72 1.47 1.35L5.41 20z\"/>\n",
              "  </svg>\n",
              "      </button>\n",
              "      \n",
              "  <style>\n",
              "    .colab-df-container {\n",
              "      display:flex;\n",
              "      flex-wrap:wrap;\n",
              "      gap: 12px;\n",
              "    }\n",
              "\n",
              "    .colab-df-convert {\n",
              "      background-color: #E8F0FE;\n",
              "      border: none;\n",
              "      border-radius: 50%;\n",
              "      cursor: pointer;\n",
              "      display: none;\n",
              "      fill: #1967D2;\n",
              "      height: 32px;\n",
              "      padding: 0 0 0 0;\n",
              "      width: 32px;\n",
              "    }\n",
              "\n",
              "    .colab-df-convert:hover {\n",
              "      background-color: #E2EBFA;\n",
              "      box-shadow: 0px 1px 2px rgba(60, 64, 67, 0.3), 0px 1px 3px 1px rgba(60, 64, 67, 0.15);\n",
              "      fill: #174EA6;\n",
              "    }\n",
              "\n",
              "    [theme=dark] .colab-df-convert {\n",
              "      background-color: #3B4455;\n",
              "      fill: #D2E3FC;\n",
              "    }\n",
              "\n",
              "    [theme=dark] .colab-df-convert:hover {\n",
              "      background-color: #434B5C;\n",
              "      box-shadow: 0px 1px 3px 1px rgba(0, 0, 0, 0.15);\n",
              "      filter: drop-shadow(0px 1px 2px rgba(0, 0, 0, 0.3));\n",
              "      fill: #FFFFFF;\n",
              "    }\n",
              "  </style>\n",
              "\n",
              "      <script>\n",
              "        const buttonEl =\n",
              "          document.querySelector('#df-b3b61582-252d-491f-ae29-bbf07209121a button.colab-df-convert');\n",
              "        buttonEl.style.display =\n",
              "          google.colab.kernel.accessAllowed ? 'block' : 'none';\n",
              "\n",
              "        async function convertToInteractive(key) {\n",
              "          const element = document.querySelector('#df-b3b61582-252d-491f-ae29-bbf07209121a');\n",
              "          const dataTable =\n",
              "            await google.colab.kernel.invokeFunction('convertToInteractive',\n",
              "                                                     [key], {});\n",
              "          if (!dataTable) return;\n",
              "\n",
              "          const docLinkHtml = 'Like what you see? Visit the ' +\n",
              "            '<a target=\"_blank\" href=https://colab.research.google.com/notebooks/data_table.ipynb>data table notebook</a>'\n",
              "            + ' to learn more about interactive tables.';\n",
              "          element.innerHTML = '';\n",
              "          dataTable['output_type'] = 'display_data';\n",
              "          await google.colab.output.renderOutput(dataTable, element);\n",
              "          const docLink = document.createElement('div');\n",
              "          docLink.innerHTML = docLinkHtml;\n",
              "          element.appendChild(docLink);\n",
              "        }\n",
              "      </script>\n",
              "    </div>\n",
              "  </div>\n",
              "  "
            ]
          },
          "metadata": {},
          "execution_count": 216
        }
      ],
      "source": [
        "dataset.head(10)"
      ]
    },
    {
      "cell_type": "markdown",
      "source": [
        "###Finding the missing values"
      ],
      "metadata": {
        "id": "3AEFgnVozEek"
      }
    },
    {
      "cell_type": "code",
      "execution_count": null,
      "metadata": {
        "colab": {
          "base_uri": "https://localhost:8080/"
        },
        "id": "q7ncYM4-EpA0",
        "outputId": "14f32165-e148-4466-9fc4-7e62e3fbc0c8"
      },
      "outputs": [
        {
          "output_type": "stream",
          "name": "stdout",
          "text": [
            "Restaurant          0\n",
            "Location            0\n",
            "Cuisines            0\n",
            "Average_Cost        1\n",
            "Minimum_Order       0\n",
            "Rating           1963\n",
            "Votes            2074\n",
            "Reviews          2312\n",
            "Delivery_Time       0\n",
            "dtype: int64\n"
          ]
        }
      ],
      "source": [
        "# Count the number of missing values in each column\n",
        "print(dataset.isnull().sum())"
      ]
    },
    {
      "cell_type": "markdown",
      "source": [
        "###Filling the Missing Values"
      ],
      "metadata": {
        "id": "JNEtt-YTzAiA"
      }
    },
    {
      "cell_type": "code",
      "execution_count": null,
      "metadata": {
        "id": "vyKOJOp3V7SI"
      },
      "outputs": [],
      "source": [
        "a_mean = dataset[\"Average_Cost\"].mean()"
      ]
    },
    {
      "cell_type": "code",
      "execution_count": null,
      "metadata": {
        "id": "BRWn0UnEWO3c"
      },
      "outputs": [],
      "source": [
        "dataset[\"Average_Cost\"] = dataset[\"Average_Cost\"].fillna(a_mean)"
      ]
    },
    {
      "cell_type": "code",
      "execution_count": null,
      "metadata": {
        "colab": {
          "base_uri": "https://localhost:8080/"
        },
        "id": "TOnzZHd7WQ9-",
        "outputId": "1a3c060d-3746-418a-ce85-7dcb0129752c"
      },
      "outputs": [
        {
          "output_type": "execute_result",
          "data": {
            "text/plain": [
              "0"
            ]
          },
          "metadata": {},
          "execution_count": 220
        }
      ],
      "source": [
        "dataset[\"Average_Cost\"].isnull().sum()"
      ]
    },
    {
      "cell_type": "code",
      "execution_count": null,
      "metadata": {
        "id": "n6sLppupKpyq"
      },
      "outputs": [],
      "source": [
        "# Calculate the mean of the ratings column\n",
        "r_median = dataset['Rating'].median() "
      ]
    },
    {
      "cell_type": "code",
      "execution_count": null,
      "metadata": {
        "id": "GDzN1VW7Erz0"
      },
      "outputs": [],
      "source": [
        "# Use the .fillna() method to replace null values with the calculated mean value\n",
        "dataset['Rating'] = dataset['Rating'].fillna(r_median)"
      ]
    },
    {
      "cell_type": "code",
      "execution_count": null,
      "metadata": {
        "colab": {
          "base_uri": "https://localhost:8080/"
        },
        "id": "deFnSTK4P0pb",
        "outputId": "d7f0ea1f-eaad-49e5-bf38-0bb43fbfcc6e"
      },
      "outputs": [
        {
          "output_type": "execute_result",
          "data": {
            "text/plain": [
              "0"
            ]
          },
          "metadata": {},
          "execution_count": 223
        }
      ],
      "source": [
        "dataset['Rating'].isnull().sum()"
      ]
    },
    {
      "cell_type": "code",
      "execution_count": null,
      "metadata": {
        "id": "22M-XzNxP4tv"
      },
      "outputs": [],
      "source": [
        "r_mode = dataset['Reviews'].mean()"
      ]
    },
    {
      "cell_type": "code",
      "execution_count": null,
      "metadata": {
        "id": "5R24FhBPQnF9"
      },
      "outputs": [],
      "source": [
        "# Use the .fillna() method to replace null values with the calculated mode value\n",
        "dataset['Reviews'] = dataset['Reviews'].fillna(r_mode)"
      ]
    },
    {
      "cell_type": "code",
      "execution_count": null,
      "metadata": {
        "colab": {
          "base_uri": "https://localhost:8080/"
        },
        "id": "2YM-vlYUQyG2",
        "outputId": "dbea7573-653f-43a2-a1a1-f862f61ed7cd"
      },
      "outputs": [
        {
          "output_type": "execute_result",
          "data": {
            "text/plain": [
              "0"
            ]
          },
          "metadata": {},
          "execution_count": 226
        }
      ],
      "source": [
        "dataset['Reviews'].isnull().sum()"
      ]
    },
    {
      "cell_type": "code",
      "execution_count": null,
      "metadata": {
        "id": "qTf9w2giQCU4"
      },
      "outputs": [],
      "source": [
        "v_median = dataset['Votes'].median()"
      ]
    },
    {
      "cell_type": "code",
      "execution_count": null,
      "metadata": {
        "id": "r82oMt-ZQ4xn"
      },
      "outputs": [],
      "source": [
        "# Use the .fillna() method to replace null values with the calculated mode value\n",
        "dataset['Votes'] = dataset['Votes'].fillna(v_median)"
      ]
    },
    {
      "cell_type": "code",
      "execution_count": null,
      "metadata": {
        "colab": {
          "base_uri": "https://localhost:8080/"
        },
        "id": "Y2m8uDgGQ4IU",
        "outputId": "d501f655-cc2e-4990-97c8-12ad387fa369"
      },
      "outputs": [
        {
          "output_type": "execute_result",
          "data": {
            "text/plain": [
              "0"
            ]
          },
          "metadata": {},
          "execution_count": 229
        }
      ],
      "source": [
        "dataset['Votes'].isnull().sum()"
      ]
    },
    {
      "cell_type": "markdown",
      "source": [
        "##Finding the Categories of the Target variable"
      ],
      "metadata": {
        "id": "AaUUL3PYzgVq"
      }
    },
    {
      "cell_type": "code",
      "execution_count": null,
      "metadata": {
        "colab": {
          "base_uri": "https://localhost:8080/"
        },
        "id": "VB3Os_HEJVwl",
        "outputId": "9414d8be-b3ef-466f-e408-3bc068d1449f"
      },
      "outputs": [
        {
          "output_type": "execute_result",
          "data": {
            "text/plain": [
              "array([ 30,  65,  45,  10,  20, 120,  80])"
            ]
          },
          "metadata": {},
          "execution_count": 231
        }
      ],
      "source": [
        "dataset['Delivery_Time'].unique()"
      ]
    },
    {
      "cell_type": "markdown",
      "metadata": {
        "id": "AmzjPlPLgHcA"
      },
      "source": [
        "##Performing the pre-Requisite for modeling"
      ]
    },
    {
      "cell_type": "markdown",
      "metadata": {
        "id": "ZGbT36vAgVSK"
      },
      "source": [
        "Separating the dependent and independent variables "
      ]
    },
    {
      "cell_type": "code",
      "execution_count": null,
      "metadata": {
        "id": "I1GrbDuVVPBH"
      },
      "outputs": [],
      "source": [
        "x=dataset.drop(['Delivery_Time', 'Restaurant', 'Location'],axis=1)\n",
        "y=dataset['Delivery_Time'].astype('category')"
      ]
    },
    {
      "cell_type": "code",
      "execution_count": null,
      "metadata": {
        "colab": {
          "base_uri": "https://localhost:8080/"
        },
        "id": "7_h8vsTNfz3N",
        "outputId": "482eef1f-4fd1-47c6-c8b8-479300325df8"
      },
      "outputs": [
        {
          "output_type": "stream",
          "name": "stdout",
          "text": [
            "<class 'pandas.core.series.Series'>\n",
            "RangeIndex: 11094 entries, 0 to 11093\n",
            "Series name: Delivery_Time\n",
            "Non-Null Count  Dtype   \n",
            "--------------  -----   \n",
            "11094 non-null  category\n",
            "dtypes: category(1)\n",
            "memory usage: 11.3 KB\n"
          ]
        }
      ],
      "source": [
        "y.info()"
      ]
    },
    {
      "cell_type": "code",
      "execution_count": null,
      "metadata": {
        "colab": {
          "base_uri": "https://localhost:8080/",
          "height": 423
        },
        "id": "4SJLMQgwVcQB",
        "outputId": "3b8d8d50-916a-45e2-9996-130cf0f2cfd1"
      },
      "outputs": [
        {
          "output_type": "execute_result",
          "data": {
            "text/plain": [
              "       Cuisines  Average_Cost  Minimum_Order  Rating  Votes     Reviews\n",
              "0           995         200.0             50     3.5   12.0    4.000000\n",
              "1          1116         100.0             50     3.5   11.0    4.000000\n",
              "2          1182         150.0             50     3.6   99.0   30.000000\n",
              "3          1398         250.0             99     3.7  176.0   95.000000\n",
              "4           388         200.0             99     3.2  521.0  235.000000\n",
              "...         ...           ...            ...     ...    ...         ...\n",
              "11089      2166         250.0             50     4.2  326.0  189.000000\n",
              "11090       860         100.0             50     3.6   36.0   16.000000\n",
              "11091      2036         100.0             50     3.5   45.0   18.000000\n",
              "11092      1412         100.0             50     3.1   24.0    9.000000\n",
              "11093      1412         100.0             50     3.6   63.0  123.247893\n",
              "\n",
              "[11094 rows x 6 columns]"
            ],
            "text/html": [
              "\n",
              "  <div id=\"df-0c3f2932-c1dc-4e99-a4ed-a303f7714f95\">\n",
              "    <div class=\"colab-df-container\">\n",
              "      <div>\n",
              "<style scoped>\n",
              "    .dataframe tbody tr th:only-of-type {\n",
              "        vertical-align: middle;\n",
              "    }\n",
              "\n",
              "    .dataframe tbody tr th {\n",
              "        vertical-align: top;\n",
              "    }\n",
              "\n",
              "    .dataframe thead th {\n",
              "        text-align: right;\n",
              "    }\n",
              "</style>\n",
              "<table border=\"1\" class=\"dataframe\">\n",
              "  <thead>\n",
              "    <tr style=\"text-align: right;\">\n",
              "      <th></th>\n",
              "      <th>Cuisines</th>\n",
              "      <th>Average_Cost</th>\n",
              "      <th>Minimum_Order</th>\n",
              "      <th>Rating</th>\n",
              "      <th>Votes</th>\n",
              "      <th>Reviews</th>\n",
              "    </tr>\n",
              "  </thead>\n",
              "  <tbody>\n",
              "    <tr>\n",
              "      <th>0</th>\n",
              "      <td>995</td>\n",
              "      <td>200.0</td>\n",
              "      <td>50</td>\n",
              "      <td>3.5</td>\n",
              "      <td>12.0</td>\n",
              "      <td>4.000000</td>\n",
              "    </tr>\n",
              "    <tr>\n",
              "      <th>1</th>\n",
              "      <td>1116</td>\n",
              "      <td>100.0</td>\n",
              "      <td>50</td>\n",
              "      <td>3.5</td>\n",
              "      <td>11.0</td>\n",
              "      <td>4.000000</td>\n",
              "    </tr>\n",
              "    <tr>\n",
              "      <th>2</th>\n",
              "      <td>1182</td>\n",
              "      <td>150.0</td>\n",
              "      <td>50</td>\n",
              "      <td>3.6</td>\n",
              "      <td>99.0</td>\n",
              "      <td>30.000000</td>\n",
              "    </tr>\n",
              "    <tr>\n",
              "      <th>3</th>\n",
              "      <td>1398</td>\n",
              "      <td>250.0</td>\n",
              "      <td>99</td>\n",
              "      <td>3.7</td>\n",
              "      <td>176.0</td>\n",
              "      <td>95.000000</td>\n",
              "    </tr>\n",
              "    <tr>\n",
              "      <th>4</th>\n",
              "      <td>388</td>\n",
              "      <td>200.0</td>\n",
              "      <td>99</td>\n",
              "      <td>3.2</td>\n",
              "      <td>521.0</td>\n",
              "      <td>235.000000</td>\n",
              "    </tr>\n",
              "    <tr>\n",
              "      <th>...</th>\n",
              "      <td>...</td>\n",
              "      <td>...</td>\n",
              "      <td>...</td>\n",
              "      <td>...</td>\n",
              "      <td>...</td>\n",
              "      <td>...</td>\n",
              "    </tr>\n",
              "    <tr>\n",
              "      <th>11089</th>\n",
              "      <td>2166</td>\n",
              "      <td>250.0</td>\n",
              "      <td>50</td>\n",
              "      <td>4.2</td>\n",
              "      <td>326.0</td>\n",
              "      <td>189.000000</td>\n",
              "    </tr>\n",
              "    <tr>\n",
              "      <th>11090</th>\n",
              "      <td>860</td>\n",
              "      <td>100.0</td>\n",
              "      <td>50</td>\n",
              "      <td>3.6</td>\n",
              "      <td>36.0</td>\n",
              "      <td>16.000000</td>\n",
              "    </tr>\n",
              "    <tr>\n",
              "      <th>11091</th>\n",
              "      <td>2036</td>\n",
              "      <td>100.0</td>\n",
              "      <td>50</td>\n",
              "      <td>3.5</td>\n",
              "      <td>45.0</td>\n",
              "      <td>18.000000</td>\n",
              "    </tr>\n",
              "    <tr>\n",
              "      <th>11092</th>\n",
              "      <td>1412</td>\n",
              "      <td>100.0</td>\n",
              "      <td>50</td>\n",
              "      <td>3.1</td>\n",
              "      <td>24.0</td>\n",
              "      <td>9.000000</td>\n",
              "    </tr>\n",
              "    <tr>\n",
              "      <th>11093</th>\n",
              "      <td>1412</td>\n",
              "      <td>100.0</td>\n",
              "      <td>50</td>\n",
              "      <td>3.6</td>\n",
              "      <td>63.0</td>\n",
              "      <td>123.247893</td>\n",
              "    </tr>\n",
              "  </tbody>\n",
              "</table>\n",
              "<p>11094 rows × 6 columns</p>\n",
              "</div>\n",
              "      <button class=\"colab-df-convert\" onclick=\"convertToInteractive('df-0c3f2932-c1dc-4e99-a4ed-a303f7714f95')\"\n",
              "              title=\"Convert this dataframe to an interactive table.\"\n",
              "              style=\"display:none;\">\n",
              "        \n",
              "  <svg xmlns=\"http://www.w3.org/2000/svg\" height=\"24px\"viewBox=\"0 0 24 24\"\n",
              "       width=\"24px\">\n",
              "    <path d=\"M0 0h24v24H0V0z\" fill=\"none\"/>\n",
              "    <path d=\"M18.56 5.44l.94 2.06.94-2.06 2.06-.94-2.06-.94-.94-2.06-.94 2.06-2.06.94zm-11 1L8.5 8.5l.94-2.06 2.06-.94-2.06-.94L8.5 2.5l-.94 2.06-2.06.94zm10 10l.94 2.06.94-2.06 2.06-.94-2.06-.94-.94-2.06-.94 2.06-2.06.94z\"/><path d=\"M17.41 7.96l-1.37-1.37c-.4-.4-.92-.59-1.43-.59-.52 0-1.04.2-1.43.59L10.3 9.45l-7.72 7.72c-.78.78-.78 2.05 0 2.83L4 21.41c.39.39.9.59 1.41.59.51 0 1.02-.2 1.41-.59l7.78-7.78 2.81-2.81c.8-.78.8-2.07 0-2.86zM5.41 20L4 18.59l7.72-7.72 1.47 1.35L5.41 20z\"/>\n",
              "  </svg>\n",
              "      </button>\n",
              "      \n",
              "  <style>\n",
              "    .colab-df-container {\n",
              "      display:flex;\n",
              "      flex-wrap:wrap;\n",
              "      gap: 12px;\n",
              "    }\n",
              "\n",
              "    .colab-df-convert {\n",
              "      background-color: #E8F0FE;\n",
              "      border: none;\n",
              "      border-radius: 50%;\n",
              "      cursor: pointer;\n",
              "      display: none;\n",
              "      fill: #1967D2;\n",
              "      height: 32px;\n",
              "      padding: 0 0 0 0;\n",
              "      width: 32px;\n",
              "    }\n",
              "\n",
              "    .colab-df-convert:hover {\n",
              "      background-color: #E2EBFA;\n",
              "      box-shadow: 0px 1px 2px rgba(60, 64, 67, 0.3), 0px 1px 3px 1px rgba(60, 64, 67, 0.15);\n",
              "      fill: #174EA6;\n",
              "    }\n",
              "\n",
              "    [theme=dark] .colab-df-convert {\n",
              "      background-color: #3B4455;\n",
              "      fill: #D2E3FC;\n",
              "    }\n",
              "\n",
              "    [theme=dark] .colab-df-convert:hover {\n",
              "      background-color: #434B5C;\n",
              "      box-shadow: 0px 1px 3px 1px rgba(0, 0, 0, 0.15);\n",
              "      filter: drop-shadow(0px 1px 2px rgba(0, 0, 0, 0.3));\n",
              "      fill: #FFFFFF;\n",
              "    }\n",
              "  </style>\n",
              "\n",
              "      <script>\n",
              "        const buttonEl =\n",
              "          document.querySelector('#df-0c3f2932-c1dc-4e99-a4ed-a303f7714f95 button.colab-df-convert');\n",
              "        buttonEl.style.display =\n",
              "          google.colab.kernel.accessAllowed ? 'block' : 'none';\n",
              "\n",
              "        async function convertToInteractive(key) {\n",
              "          const element = document.querySelector('#df-0c3f2932-c1dc-4e99-a4ed-a303f7714f95');\n",
              "          const dataTable =\n",
              "            await google.colab.kernel.invokeFunction('convertToInteractive',\n",
              "                                                     [key], {});\n",
              "          if (!dataTable) return;\n",
              "\n",
              "          const docLinkHtml = 'Like what you see? Visit the ' +\n",
              "            '<a target=\"_blank\" href=https://colab.research.google.com/notebooks/data_table.ipynb>data table notebook</a>'\n",
              "            + ' to learn more about interactive tables.';\n",
              "          element.innerHTML = '';\n",
              "          dataTable['output_type'] = 'display_data';\n",
              "          await google.colab.output.renderOutput(dataTable, element);\n",
              "          const docLink = document.createElement('div');\n",
              "          docLink.innerHTML = docLinkHtml;\n",
              "          element.appendChild(docLink);\n",
              "        }\n",
              "      </script>\n",
              "    </div>\n",
              "  </div>\n",
              "  "
            ]
          },
          "metadata": {},
          "execution_count": 234
        }
      ],
      "source": [
        "x"
      ]
    },
    {
      "cell_type": "markdown",
      "metadata": {
        "id": "SXou8N_LgidT"
      },
      "source": [
        "Splitting the Dataset for evaluating the model"
      ]
    },
    {
      "cell_type": "code",
      "execution_count": null,
      "metadata": {
        "id": "2feK8uPl77L2"
      },
      "outputs": [],
      "source": [
        "dataset.reset_index(drop=True, inplace=True)"
      ]
    },
    {
      "cell_type": "code",
      "execution_count": null,
      "metadata": {
        "colab": {
          "base_uri": "https://localhost:8080/",
          "height": 423
        },
        "id": "1lOrgyIfCNJm",
        "outputId": "c8df2bb6-8914-41c5-f7f9-f78d538b209b"
      },
      "outputs": [
        {
          "output_type": "execute_result",
          "data": {
            "text/plain": [
              "      Delivery_Time\n",
              "0                30\n",
              "1                30\n",
              "2                65\n",
              "3                30\n",
              "4                65\n",
              "...             ...\n",
              "11089            30\n",
              "11090            30\n",
              "11091            30\n",
              "11092            30\n",
              "11093            30\n",
              "\n",
              "[11094 rows x 1 columns]"
            ],
            "text/html": [
              "\n",
              "  <div id=\"df-d39eec48-f247-41ec-943b-a5c48dd772e8\">\n",
              "    <div class=\"colab-df-container\">\n",
              "      <div>\n",
              "<style scoped>\n",
              "    .dataframe tbody tr th:only-of-type {\n",
              "        vertical-align: middle;\n",
              "    }\n",
              "\n",
              "    .dataframe tbody tr th {\n",
              "        vertical-align: top;\n",
              "    }\n",
              "\n",
              "    .dataframe thead th {\n",
              "        text-align: right;\n",
              "    }\n",
              "</style>\n",
              "<table border=\"1\" class=\"dataframe\">\n",
              "  <thead>\n",
              "    <tr style=\"text-align: right;\">\n",
              "      <th></th>\n",
              "      <th>Delivery_Time</th>\n",
              "    </tr>\n",
              "  </thead>\n",
              "  <tbody>\n",
              "    <tr>\n",
              "      <th>0</th>\n",
              "      <td>30</td>\n",
              "    </tr>\n",
              "    <tr>\n",
              "      <th>1</th>\n",
              "      <td>30</td>\n",
              "    </tr>\n",
              "    <tr>\n",
              "      <th>2</th>\n",
              "      <td>65</td>\n",
              "    </tr>\n",
              "    <tr>\n",
              "      <th>3</th>\n",
              "      <td>30</td>\n",
              "    </tr>\n",
              "    <tr>\n",
              "      <th>4</th>\n",
              "      <td>65</td>\n",
              "    </tr>\n",
              "    <tr>\n",
              "      <th>...</th>\n",
              "      <td>...</td>\n",
              "    </tr>\n",
              "    <tr>\n",
              "      <th>11089</th>\n",
              "      <td>30</td>\n",
              "    </tr>\n",
              "    <tr>\n",
              "      <th>11090</th>\n",
              "      <td>30</td>\n",
              "    </tr>\n",
              "    <tr>\n",
              "      <th>11091</th>\n",
              "      <td>30</td>\n",
              "    </tr>\n",
              "    <tr>\n",
              "      <th>11092</th>\n",
              "      <td>30</td>\n",
              "    </tr>\n",
              "    <tr>\n",
              "      <th>11093</th>\n",
              "      <td>30</td>\n",
              "    </tr>\n",
              "  </tbody>\n",
              "</table>\n",
              "<p>11094 rows × 1 columns</p>\n",
              "</div>\n",
              "      <button class=\"colab-df-convert\" onclick=\"convertToInteractive('df-d39eec48-f247-41ec-943b-a5c48dd772e8')\"\n",
              "              title=\"Convert this dataframe to an interactive table.\"\n",
              "              style=\"display:none;\">\n",
              "        \n",
              "  <svg xmlns=\"http://www.w3.org/2000/svg\" height=\"24px\"viewBox=\"0 0 24 24\"\n",
              "       width=\"24px\">\n",
              "    <path d=\"M0 0h24v24H0V0z\" fill=\"none\"/>\n",
              "    <path d=\"M18.56 5.44l.94 2.06.94-2.06 2.06-.94-2.06-.94-.94-2.06-.94 2.06-2.06.94zm-11 1L8.5 8.5l.94-2.06 2.06-.94-2.06-.94L8.5 2.5l-.94 2.06-2.06.94zm10 10l.94 2.06.94-2.06 2.06-.94-2.06-.94-.94-2.06-.94 2.06-2.06.94z\"/><path d=\"M17.41 7.96l-1.37-1.37c-.4-.4-.92-.59-1.43-.59-.52 0-1.04.2-1.43.59L10.3 9.45l-7.72 7.72c-.78.78-.78 2.05 0 2.83L4 21.41c.39.39.9.59 1.41.59.51 0 1.02-.2 1.41-.59l7.78-7.78 2.81-2.81c.8-.78.8-2.07 0-2.86zM5.41 20L4 18.59l7.72-7.72 1.47 1.35L5.41 20z\"/>\n",
              "  </svg>\n",
              "      </button>\n",
              "      \n",
              "  <style>\n",
              "    .colab-df-container {\n",
              "      display:flex;\n",
              "      flex-wrap:wrap;\n",
              "      gap: 12px;\n",
              "    }\n",
              "\n",
              "    .colab-df-convert {\n",
              "      background-color: #E8F0FE;\n",
              "      border: none;\n",
              "      border-radius: 50%;\n",
              "      cursor: pointer;\n",
              "      display: none;\n",
              "      fill: #1967D2;\n",
              "      height: 32px;\n",
              "      padding: 0 0 0 0;\n",
              "      width: 32px;\n",
              "    }\n",
              "\n",
              "    .colab-df-convert:hover {\n",
              "      background-color: #E2EBFA;\n",
              "      box-shadow: 0px 1px 2px rgba(60, 64, 67, 0.3), 0px 1px 3px 1px rgba(60, 64, 67, 0.15);\n",
              "      fill: #174EA6;\n",
              "    }\n",
              "\n",
              "    [theme=dark] .colab-df-convert {\n",
              "      background-color: #3B4455;\n",
              "      fill: #D2E3FC;\n",
              "    }\n",
              "\n",
              "    [theme=dark] .colab-df-convert:hover {\n",
              "      background-color: #434B5C;\n",
              "      box-shadow: 0px 1px 3px 1px rgba(0, 0, 0, 0.15);\n",
              "      filter: drop-shadow(0px 1px 2px rgba(0, 0, 0, 0.3));\n",
              "      fill: #FFFFFF;\n",
              "    }\n",
              "  </style>\n",
              "\n",
              "      <script>\n",
              "        const buttonEl =\n",
              "          document.querySelector('#df-d39eec48-f247-41ec-943b-a5c48dd772e8 button.colab-df-convert');\n",
              "        buttonEl.style.display =\n",
              "          google.colab.kernel.accessAllowed ? 'block' : 'none';\n",
              "\n",
              "        async function convertToInteractive(key) {\n",
              "          const element = document.querySelector('#df-d39eec48-f247-41ec-943b-a5c48dd772e8');\n",
              "          const dataTable =\n",
              "            await google.colab.kernel.invokeFunction('convertToInteractive',\n",
              "                                                     [key], {});\n",
              "          if (!dataTable) return;\n",
              "\n",
              "          const docLinkHtml = 'Like what you see? Visit the ' +\n",
              "            '<a target=\"_blank\" href=https://colab.research.google.com/notebooks/data_table.ipynb>data table notebook</a>'\n",
              "            + ' to learn more about interactive tables.';\n",
              "          element.innerHTML = '';\n",
              "          dataTable['output_type'] = 'display_data';\n",
              "          await google.colab.output.renderOutput(dataTable, element);\n",
              "          const docLink = document.createElement('div');\n",
              "          docLink.innerHTML = docLinkHtml;\n",
              "          element.appendChild(docLink);\n",
              "        }\n",
              "      </script>\n",
              "    </div>\n",
              "  </div>\n",
              "  "
            ]
          },
          "metadata": {},
          "execution_count": 236
        }
      ],
      "source": [
        "pd.DataFrame(y)"
      ]
    },
    {
      "cell_type": "markdown",
      "source": [
        "###Splitting the Dataset for training"
      ],
      "metadata": {
        "id": "Pdr7YTSqzodK"
      }
    },
    {
      "cell_type": "code",
      "execution_count": null,
      "metadata": {
        "id": "9WvGlH3t8Znl"
      },
      "outputs": [],
      "source": [
        "X_train, X_test, y_train, y_test = train_test_split(x, y, test_size=0.2, random_state=42)"
      ]
    },
    {
      "cell_type": "markdown",
      "source": [
        "##Defining the various classifier Models"
      ],
      "metadata": {
        "id": "auBvPbEH0Auk"
      }
    },
    {
      "cell_type": "markdown",
      "metadata": {
        "id": "7ZHRxYskgqeF"
      },
      "source": [
        "###Base Estimator\n",
        "Creating the Base Models"
      ]
    },
    {
      "cell_type": "code",
      "execution_count": null,
      "metadata": {
        "id": "Ltt_tTWJ7hbs"
      },
      "outputs": [],
      "source": [
        "# Define base models\n",
        "dtc = DecisionTreeClassifier(random_state=42)\n",
        "svc = SVC(probability=True, random_state=42)\n",
        "rfc = RandomForestClassifier(n_estimators=100, random_state=42)"
      ]
    },
    {
      "cell_type": "markdown",
      "source": [
        "###Bagging Classifier:\n",
        "Defining the bagging classifier with the above mentioned base models."
      ],
      "metadata": {
        "id": "fDMHXvI-wkGB"
      }
    },
    {
      "cell_type": "code",
      "source": [
        "# Define bagging classifiers for each base model\n",
        "dtc_bc = BaggingClassifier(estimator=dtc, n_estimators=10, random_state=42)\n",
        "svc_bc = BaggingClassifier(estimator=svc, n_estimators=10, random_state=42)\n",
        "rfc_bc = BaggingClassifier(estimator=rfc, n_estimators=10, random_state=42)"
      ],
      "metadata": {
        "id": "QqhgA39_lTFy"
      },
      "execution_count": null,
      "outputs": []
    },
    {
      "cell_type": "markdown",
      "source": [
        "###AdaBoost Classifier:\n",
        "Defining the AdaBoost classifier with the above mentioned base models."
      ],
      "metadata": {
        "id": "3Pjnls2-w3UE"
      }
    },
    {
      "cell_type": "code",
      "source": [
        "# Define boosting classifiers for each base model\n",
        "dtc_abc = AdaBoostClassifier(estimator=dtc, n_estimators=10, random_state=42)\n",
        "svc_abc = AdaBoostClassifier(estimator=svc, n_estimators=10, random_state=42)\n",
        "rfc_abc = AdaBoostClassifier(estimator=rfc, n_estimators=10, random_state=42)"
      ],
      "metadata": {
        "id": "tNq57G4klbT4"
      },
      "execution_count": null,
      "outputs": []
    },
    {
      "cell_type": "markdown",
      "source": [
        "###Voting Classifier:\n",
        "Defining the voting classifier (Hard Voting) with the above mentioned classifier models."
      ],
      "metadata": {
        "id": "yl7S0t9cxKvM"
      }
    },
    {
      "cell_type": "code",
      "source": [
        "# Define voting classifier\n",
        "vc = VotingClassifier(estimators=[\n",
        "    ('dtc', dtc),\n",
        "    ('dtc_bc', dtc_bc),\n",
        "    ('dtc_abc', dtc_abc),\n",
        "    ('svc', svc),\n",
        "    ('svc_bc', svc_bc),\n",
        "    ('svc_abc', svc_abc),\n",
        "    ('rfc', rfc),\n",
        "    ('rfc_bc', rfc_bc),\n",
        "    ('rfc_abc', rfc_abc)\n",
        "], voting='hard')"
      ],
      "metadata": {
        "id": "eKMagMvdlq89"
      },
      "execution_count": null,
      "outputs": []
    },
    {
      "cell_type": "markdown",
      "source": [
        "##Evaluating the defined Models"
      ],
      "metadata": {
        "id": "xc4NnpMoxUhZ"
      }
    },
    {
      "cell_type": "markdown",
      "source": [
        "###1. Base models and its accuracy"
      ],
      "metadata": {
        "id": "z6kw_qCKxYiM"
      }
    },
    {
      "cell_type": "code",
      "source": [
        "# Train and evaluate the base models\n",
        "models = [dtc, svc, rfc]\n",
        "for model in models:\n",
        "    model.fit(X_train, y_train)\n",
        "    print(\"Accuracy of {}: {}\".format(type(model).__name__, model.score(X_test, y_test)))"
      ],
      "metadata": {
        "colab": {
          "base_uri": "https://localhost:8080/"
        },
        "id": "XWx1HsVilq5Y",
        "outputId": "f5342c35-427b-4bf5-8b16-b16ed3594900"
      },
      "execution_count": null,
      "outputs": [
        {
          "output_type": "stream",
          "name": "stdout",
          "text": [
            "Accuracy of DecisionTreeClassifier: 0.743578188373141\n",
            "Accuracy of SVC: 0.7138350608382155\n",
            "Accuracy of RandomForestClassifier: 0.8012618296529969\n"
          ]
        }
      ]
    },
    {
      "cell_type": "markdown",
      "source": [
        "###2. Bagging Classifiers and its accuracy|"
      ],
      "metadata": {
        "id": "16BG6iZfxfT5"
      }
    },
    {
      "cell_type": "code",
      "source": [
        "# Train and evaluate the bagging classifiers\n",
        "models_bc = [dtc_bc, svc_bc, rfc_bc]\n",
        "for model_bc in models_bc:\n",
        "    model_bc.fit(X_train, y_train)\n",
        "    print(\"Accuracy of {} with Bagging: {}\".format(type(model_bc.estimator).__name__, model_bc.score(X_test, y_test)))"
      ],
      "metadata": {
        "colab": {
          "base_uri": "https://localhost:8080/"
        },
        "id": "1TVKJc1Ql0-y",
        "outputId": "a082339b-3a81-4361-8b9b-c493264377ea"
      },
      "execution_count": null,
      "outputs": [
        {
          "output_type": "stream",
          "name": "stdout",
          "text": [
            "Accuracy of DecisionTreeClassifier with Bagging: 0.7809824245155476\n",
            "Accuracy of SVC with Bagging: 0.711581793600721\n",
            "Accuracy of RandomForestClassifier with Bagging: 0.7890941865705272\n"
          ]
        }
      ]
    },
    {
      "cell_type": "markdown",
      "source": [
        "###3. Boosting classifier and its accuracy"
      ],
      "metadata": {
        "id": "M-NMMf2Lx38y"
      }
    },
    {
      "cell_type": "code",
      "source": [
        "# Train and evaluate the boosting classifiers\n",
        "models_abc = [dtc_abc, svc_abc, rfc_abc]\n",
        "for model_abc in models_abc:\n",
        "    model_abc.fit(X_train, y_train)\n",
        "    print(\"Accuracy of {} with Boosting: {}\".format(type(model_abc.estimator).__name__, model_abc.score(X_test, y_test)))"
      ],
      "metadata": {
        "colab": {
          "base_uri": "https://localhost:8080/"
        },
        "id": "YWCLCVOSl6cT",
        "outputId": "03ff72b6-c1bc-4da2-d193-c7168202f4f8"
      },
      "execution_count": null,
      "outputs": [
        {
          "output_type": "stream",
          "name": "stdout",
          "text": [
            "Accuracy of DecisionTreeClassifier with Boosting: 0.7854889589905363\n",
            "Accuracy of SVC with Boosting: 0.6804867057232988\n",
            "Accuracy of RandomForestClassifier with Boosting: 0.8021631365479945\n"
          ]
        }
      ]
    },
    {
      "cell_type": "markdown",
      "source": [
        "###Finding the Accuracy of ensembled model"
      ],
      "metadata": {
        "id": "xrvg5ey9yAv1"
      }
    },
    {
      "cell_type": "code",
      "source": [
        "# Train and evaluate the voting classifier\n",
        "vc.fit(X_train, y_train)\n",
        "print(\"Accuracy of Ensemble VotingClassifier: {}\".format(vc.score(X_test, y_test)))"
      ],
      "metadata": {
        "colab": {
          "base_uri": "https://localhost:8080/"
        },
        "id": "uqzhWu0El_sY",
        "outputId": "f942b61a-a75d-4f78-d7f8-5d651b398a21"
      },
      "execution_count": null,
      "outputs": [
        {
          "output_type": "stream",
          "name": "stdout",
          "text": [
            "Accuracy of Ensemble VotingClassifier: 0.7981072555205048\n"
          ]
        }
      ]
    },
    {
      "cell_type": "markdown",
      "source": [
        "##INFERENCE"
      ],
      "metadata": {
        "id": "Vqeptpv0yKlc"
      }
    },
    {
      "cell_type": "markdown",
      "source": [
        "From the accuracy that we got from the above models, we can find that, **RandomForest Classifier with Boosting** have 80% Accuracy. So we can use this model for future classifications"
      ],
      "metadata": {
        "id": "0kVgPLolyN7h"
      }
    }
  ],
  "metadata": {
    "colab": {
      "provenance": []
    },
    "kernelspec": {
      "display_name": "Python 3",
      "name": "python3"
    },
    "language_info": {
      "name": "python"
    }
  },
  "nbformat": 4,
  "nbformat_minor": 0
}